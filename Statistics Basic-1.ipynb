{
 "cells": [
  {
   "cell_type": "code",
   "execution_count": null,
   "id": "e243b93b",
   "metadata": {},
   "outputs": [],
   "source": [
    "Q1. What is Statistics?\n",
    "Ans1. Statistics is a branch of mathematics that deals with the collection, analysis, interpretation, presentation, and organization of data. It provides methods and techniques to extract meaningful information and insights from large and complex datasets. \n"
   ]
  },
  {
   "cell_type": "code",
   "execution_count": null,
   "id": "1e51b7cd",
   "metadata": {},
   "outputs": [],
   "source": [
    "Q2. Define the different types of statistics and give an example of when each type might be used.\n",
    "Ans2. There are two main types of statistics: descriptive statistics and inferential statistics.\n",
    "\n",
    "Descriptive statistics: This type of statistics deals with the summary and organization of data. It includes methods for describing and summarizing the key features of a dataset such as central tendency, variability, and distribution.\n",
    "    Example: Suppose you have collected data on the ages of 100 customers who visited your store in a day. You can use descriptive statistics to calculate the mean and standard deviation of the ages to understand the average age of your customers and the variability in the ages.\n",
    "        \n",
    "Inferential statistics: This type of statistics deals with making predictions and generalizations about a population based on a sample of data. It includes methods for testing hypotheses, estimating parameters, and making predictions. \n",
    "Example: Suppose you want to estimate the average income of all the residents in a city. You can take a sample of the residents and use inferential statistics to estimate the average income of the entire population with a certain level of confidence.\n"
   ]
  },
  {
   "cell_type": "code",
   "execution_count": null,
   "id": "9762e29f",
   "metadata": {},
   "outputs": [],
   "source": [
    "Q3. What are the different types of data and how do they differ from each other? Provide an example of\n",
    "each type of data?\n",
    "Ans3. There are generally four different types of data:\n",
    "\n",
    "Nominal data: Nominal data is categorical data that cannot be ranked or ordered in any meaningful way. It consists of labels or names that represent different categories or groups. Examples of nominal data include gender (male, female), hair color (blonde, brunette, black, etc.), and car models (sedan, SUV, truck, etc.).\n",
    "Ordinal data: Ordinal data is categorical data that can be ranked or ordered in a meaningful way. The categories or groups have a natural order or hierarchy. Examples of ordinal data include educational levels (elementary, high school, college), income levels (low, medium, high), and customer satisfaction ratings (poor, fair, good, excellent).\n",
    "Interval data: Interval data is numerical data that has equal intervals between each value. This type of data does not have a true zero point, meaning that a value of zero does not represent the absence of the variable being measured. Examples of interval data include temperature measured in Celsius or Fahrenheit and time measured in hours, minutes, or seconds.\n",
    "Ratio data: Ratio data is numerical data that has equal intervals between each value and a true zero point. This type of data has a meaningful zero point that represents the absence of the variable being measured. Examples of ratio data include weight, height, and income."
   ]
  },
  {
   "cell_type": "code",
   "execution_count": null,
   "id": "47ab4493",
   "metadata": {},
   "outputs": [],
   "source": [
    "Q4. Categorise the following datasets with respect to quantitative and qualitative data types:\n",
    "(i) Grading in exam: A+, A, B+, B, C+, C, D, E\n",
    "(ii) Colour of mangoes: yellow, green, orange, red\n",
    "(iii) Height data of a class: [178.9, 179, 179.5, 176, 177.2, 178.3, 175.8,...]\n",
    "(iv) Number of mangoes exported by a farm: [500, 600, 478, 672, ...]\n",
    "Ans4. (i) Grading in exam: Qualitative (ordinal) data\n",
    "(ii) Colour of mangoes: Qualitative (nominal) data\n",
    "(iii) Height data of a class: Quantitative (continuous) data\n",
    "(iv) Number of mangoes exported by a farm: Quantitative (discrete) data"
   ]
  },
  {
   "cell_type": "code",
   "execution_count": null,
   "id": "845d631c",
   "metadata": {},
   "outputs": [],
   "source": [
    "Q5. Explain the concept of levels of measurement and give an example of a variable for each level.\n",
    "Ans5. Levels of measurement, also known as scales of measurement, refers to the different ways in which variables can be measured or classified. There are four levels of measurement: nominal, ordinal, interval, and ratio."
   ]
  },
  {
   "cell_type": "code",
   "execution_count": null,
   "id": "223d9e71",
   "metadata": {},
   "outputs": [],
   "source": [
    "Q6. Why is it important to understand the level of measurement when analyzing data? Provide an\n",
    "example to illustrate your answer.\n",
    "Ans6. It is important to understand the level of measurement when analyzing data because it affects the type of statistical analysis that can be performed on the data. Different levels of measurement have different properties, and therefore require different types of statistical analysis.\n",
    "example is that we cannot use measures of central tendency, such as mean, for ordinal data. We can only use measures of central tendency such as median or mode, which preserve the rank order of the data."
   ]
  },
  {
   "cell_type": "code",
   "execution_count": null,
   "id": "463223d9",
   "metadata": {},
   "outputs": [],
   "source": [
    "Q7. How nominal data type is different from ordinal data type.\n",
    "Ans7. Nominal and ordinal data types are both types of categorical data, but they differ in terms of the level of measurement.\n",
    "\n",
    "Nominal data is a type of categorical data that is used to classify or label data into distinct categories or groups. Examples of nominal data include gender, ethnicity, and hair color. In nominal data, the categories or groups have no inherent order or ranking. For example, in a dataset of gender, male and female are two distinct categories, but there is no inherent order or ranking between them. We cannot say that male is \"higher\" or \"better\" than female or vice versa.\n",
    "\n",
    "Ordinal data, on the other hand, is a type of categorical data where the categories or groups can be ranked in order. Examples of ordinal data include letter grades (A, B, C, D, F), clothing sizes (small, medium, large), and level of education (elementary, high school, college)."
   ]
  },
  {
   "cell_type": "code",
   "execution_count": null,
   "id": "6d2f097c",
   "metadata": {},
   "outputs": [],
   "source": [
    "Q8. Which type of plot can be used to display data in terms of range?\n",
    "Ans8. A box plot (also known as a box-and-whisker plot) is a type of plot that can be used to display data in terms of range. A box plot displays the distribution of a dataset by showing the median, quartiles, and outliers."
   ]
  },
  {
   "cell_type": "code",
   "execution_count": null,
   "id": "1c815a00",
   "metadata": {},
   "outputs": [],
   "source": [
    "Q9. Describe the difference between descriptive and inferential statistics. Give an example of each\n",
    "type of statistics and explain how they are used.\n",
    "Ans9. Descriptive statistics is concerned with summarizing and describing the characteristics of a dataset. It involves methods of organizing, summarizing, and presenting data in a way that is easy to understand. Descriptive statistics can be used to identify patterns, trends, and relationships in a dataset.\n",
    "Examples of descriptive statistics include measures of central tendency (such as mean, median, and mode), measures of variability (such as range, variance, and standard deviation), and graphical representations of data (such as histograms and scatter plots).\n",
    "\n",
    "Inferential statistics, on the other hand, is concerned with making inferences and drawing conclusions about a population based on a sample of data. It involves using probability theory to test hypotheses and make predictions about the population. Inferential statistics is used when it is not feasible or practical to collect data from an entire population, and instead a sample of data is collected to make inferences about the population as a whole. Examples of inferential statistics include hypothesis testing, confidence intervals, and regression analysis"
   ]
  },
  {
   "cell_type": "code",
   "execution_count": null,
   "id": "e8753957",
   "metadata": {},
   "outputs": [],
   "source": [
    "Q10. What are some common measures of central tendency and variability used in statistics? Explain\n",
    "how each measure can be used to describe a dataset.\n",
    "Ans10. Measures of central tendency and variability are used in statistics to summarize and describe the characteristics of a dataset. Some common measures of central tendency include mean, median, and mode, while measures of variability include range, variance, and standard deviation.\n",
    "measures of central tendency and variability are used in statistics to summarize and describe a dataset. The mean, median, and mode are measures of central tendency, while the range, variance, and standard deviation are measures of variability. Each measure can be used to describe different aspects of the dataset and can be chosen based on the characteristics of the data being analyzed."
   ]
  }
 ],
 "metadata": {
  "kernelspec": {
   "display_name": "Python 3 (ipykernel)",
   "language": "python",
   "name": "python3"
  },
  "language_info": {
   "codemirror_mode": {
    "name": "ipython",
    "version": 3
   },
   "file_extension": ".py",
   "mimetype": "text/x-python",
   "name": "python",
   "nbconvert_exporter": "python",
   "pygments_lexer": "ipython3",
   "version": "3.9.13"
  }
 },
 "nbformat": 4,
 "nbformat_minor": 5
}
